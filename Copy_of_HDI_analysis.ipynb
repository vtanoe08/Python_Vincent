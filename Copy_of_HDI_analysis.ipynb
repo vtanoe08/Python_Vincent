{
  "nbformat": 4,
  "nbformat_minor": 0,
  "metadata": {
    "colab": {
      "name": "Copy of HDI_analysis",
      "provenance": [],
      "collapsed_sections": [],
      "include_colab_link": true
    },
    "kernelspec": {
      "name": "python3",
      "display_name": "Python 3"
    }
  },
  "cells": [
    {
      "cell_type": "markdown",
      "metadata": {
        "id": "view-in-github",
        "colab_type": "text"
      },
      "source": [
        "<a href=\"https://colab.research.google.com/github/vtanoe08/Python_Vincent/blob/main/Copy_of_HDI_analysis.ipynb\" target=\"_parent\"><img src=\"https://colab.research.google.com/assets/colab-badge.svg\" alt=\"Open In Colab\"/></a>"
      ]
    },
    {
      "cell_type": "code",
      "metadata": {
        "id": "SR0WwrqDMqlH",
        "colab": {
          "base_uri": "https://localhost:8080/",
          "height": 357
        },
        "outputId": "425da46f-fb7d-44a7-b21f-13d45d24d39e"
      },
      "source": [
        "\n",
        "!pip install linearmodels;\n",
        "#!pip install hvplot\n",
        "import pandas as pd\n",
        "import numpy as np\n",
        "import matplotlib.pyplot as plt\n",
        "import math\n",
        "from linearmodels import PanelOLS\n",
        "from linearmodels import RandomEffects\n",
        "import statsmodels.api as sm\n",
        "%matplotlib inline"
      ],
      "execution_count": null,
      "outputs": [
        {
          "output_type": "stream",
          "text": [
            "Collecting linearmodels\n",
            "\u001b[?25l  Downloading https://files.pythonhosted.org/packages/33/98/9606898621df26cad70021f928ab977926a7ed6ad30a10572cc93f67a970/linearmodels-4.17-cp36-cp36m-manylinux1_x86_64.whl (1.5MB)\n",
            "\u001b[K     |████████████████████████████████| 1.5MB 4.7MB/s \n",
            "\u001b[?25hRequirement already satisfied: numpy>=1.15 in /usr/local/lib/python3.6/dist-packages (from linearmodels) (1.18.5)\n",
            "Collecting mypy-extensions>=0.4\n",
            "  Downloading https://files.pythonhosted.org/packages/5c/eb/975c7c080f3223a5cdaff09612f3a5221e4ba534f7039db34c35d95fa6a5/mypy_extensions-0.4.3-py2.py3-none-any.whl\n",
            "Requirement already satisfied: statsmodels>=0.9 in /usr/local/lib/python3.6/dist-packages (from linearmodels) (0.10.2)\n",
            "Requirement already satisfied: scipy>=1 in /usr/local/lib/python3.6/dist-packages (from linearmodels) (1.4.1)\n",
            "Requirement already satisfied: Cython>=0.29.14 in /usr/local/lib/python3.6/dist-packages (from linearmodels) (0.29.19)\n",
            "Requirement already satisfied: pandas>=0.23 in /usr/local/lib/python3.6/dist-packages (from linearmodels) (1.0.4)\n",
            "Collecting property-cached>=1.6.3\n",
            "  Downloading https://files.pythonhosted.org/packages/5c/6c/94d8e520b20a2502e508e1c558f338061cf409cbee78fd6a3a5c6ae812bd/property_cached-1.6.4-py2.py3-none-any.whl\n",
            "Requirement already satisfied: patsy in /usr/local/lib/python3.6/dist-packages (from linearmodels) (0.5.1)\n",
            "Requirement already satisfied: python-dateutil>=2.6.1 in /usr/local/lib/python3.6/dist-packages (from pandas>=0.23->linearmodels) (2.8.1)\n",
            "Requirement already satisfied: pytz>=2017.2 in /usr/local/lib/python3.6/dist-packages (from pandas>=0.23->linearmodels) (2018.9)\n",
            "Requirement already satisfied: six in /usr/local/lib/python3.6/dist-packages (from patsy->linearmodels) (1.12.0)\n",
            "Installing collected packages: mypy-extensions, property-cached, linearmodels\n",
            "Successfully installed linearmodels-4.17 mypy-extensions-0.4.3 property-cached-1.6.4\n"
          ],
          "name": "stdout"
        },
        {
          "output_type": "stream",
          "text": [
            "/usr/local/lib/python3.6/dist-packages/statsmodels/tools/_testing.py:19: FutureWarning: pandas.util.testing is deprecated. Use the functions in the public API at pandas.testing instead.\n",
            "  import pandas.util.testing as tm\n"
          ],
          "name": "stderr"
        }
      ]
    },
    {
      "cell_type": "code",
      "metadata": {
        "id": "vYhJUIXTNSHp",
        "colab": {
          "base_uri": "https://localhost:8080/",
          "height": 204
        },
        "outputId": "5b340e30-1032-483a-956f-5f8cdde969fa"
      },
      "source": [
        "data=pd.read_csv('data_final_Project_Income_Class.csv')\n",
        "data.head()"
      ],
      "execution_count": null,
      "outputs": [
        {
          "output_type": "execute_result",
          "data": {
            "text/html": [
              "<div>\n",
              "<style scoped>\n",
              "    .dataframe tbody tr th:only-of-type {\n",
              "        vertical-align: middle;\n",
              "    }\n",
              "\n",
              "    .dataframe tbody tr th {\n",
              "        vertical-align: top;\n",
              "    }\n",
              "\n",
              "    .dataframe thead th {\n",
              "        text-align: right;\n",
              "    }\n",
              "</style>\n",
              "<table border=\"1\" class=\"dataframe\">\n",
              "  <thead>\n",
              "    <tr style=\"text-align: right;\">\n",
              "      <th></th>\n",
              "      <th>year</th>\n",
              "      <th>Country</th>\n",
              "      <th>Country_Code</th>\n",
              "      <th>Income_Class</th>\n",
              "      <th>hdi</th>\n",
              "      <th>PSE</th>\n",
              "      <th>GDPG</th>\n",
              "      <th>DCPFS</th>\n",
              "      <th>POP</th>\n",
              "      <th>INOV</th>\n",
              "      <th>INTPINOV</th>\n",
              "      <th>INT</th>\n",
              "    </tr>\n",
              "  </thead>\n",
              "  <tbody>\n",
              "    <tr>\n",
              "      <th>0</th>\n",
              "      <td>2000</td>\n",
              "      <td>Afghanistan</td>\n",
              "      <td>AFG</td>\n",
              "      <td>Low income</td>\n",
              "      <td>0.00</td>\n",
              "      <td>20.95758</td>\n",
              "      <td>0.000000</td>\n",
              "      <td>0.0</td>\n",
              "      <td>20779953.0</td>\n",
              "      <td>0.0</td>\n",
              "      <td>0.000000</td>\n",
              "      <td>0.000000</td>\n",
              "    </tr>\n",
              "    <tr>\n",
              "      <th>1</th>\n",
              "      <td>2001</td>\n",
              "      <td>Afghanistan</td>\n",
              "      <td>AFG</td>\n",
              "      <td>Low income</td>\n",
              "      <td>0.00</td>\n",
              "      <td>20.88291</td>\n",
              "      <td>0.000000</td>\n",
              "      <td>0.0</td>\n",
              "      <td>21606988.0</td>\n",
              "      <td>0.0</td>\n",
              "      <td>0.000000</td>\n",
              "      <td>0.004723</td>\n",
              "    </tr>\n",
              "    <tr>\n",
              "      <th>2</th>\n",
              "      <td>2002</td>\n",
              "      <td>Afghanistan</td>\n",
              "      <td>AFG</td>\n",
              "      <td>Low income</td>\n",
              "      <td>0.37</td>\n",
              "      <td>68.98685</td>\n",
              "      <td>0.000000</td>\n",
              "      <td>0.0</td>\n",
              "      <td>22600770.0</td>\n",
              "      <td>0.0</td>\n",
              "      <td>0.000000</td>\n",
              "      <td>0.004561</td>\n",
              "    </tr>\n",
              "    <tr>\n",
              "      <th>3</th>\n",
              "      <td>2003</td>\n",
              "      <td>Afghanistan</td>\n",
              "      <td>AFG</td>\n",
              "      <td>Low income</td>\n",
              "      <td>0.38</td>\n",
              "      <td>93.36218</td>\n",
              "      <td>3.868362</td>\n",
              "      <td>0.0</td>\n",
              "      <td>23680871.0</td>\n",
              "      <td>7.3</td>\n",
              "      <td>0.641606</td>\n",
              "      <td>0.087891</td>\n",
              "    </tr>\n",
              "    <tr>\n",
              "      <th>4</th>\n",
              "      <td>2004</td>\n",
              "      <td>Afghanistan</td>\n",
              "      <td>AFG</td>\n",
              "      <td>Low income</td>\n",
              "      <td>0.40</td>\n",
              "      <td>104.66382</td>\n",
              "      <td>-2.875184</td>\n",
              "      <td>0.0</td>\n",
              "      <td>24726684.0</td>\n",
              "      <td>5.8</td>\n",
              "      <td>0.613692</td>\n",
              "      <td>0.105809</td>\n",
              "    </tr>\n",
              "  </tbody>\n",
              "</table>\n",
              "</div>"
            ],
            "text/plain": [
              "   year      Country Country_Code  ... INOV  INTPINOV       INT\n",
              "0  2000  Afghanistan          AFG  ...  0.0  0.000000  0.000000\n",
              "1  2001  Afghanistan          AFG  ...  0.0  0.000000  0.004723\n",
              "2  2002  Afghanistan          AFG  ...  0.0  0.000000  0.004561\n",
              "3  2003  Afghanistan          AFG  ...  7.3  0.641606  0.087891\n",
              "4  2004  Afghanistan          AFG  ...  5.8  0.613692  0.105809\n",
              "\n",
              "[5 rows x 12 columns]"
            ]
          },
          "metadata": {
            "tags": []
          },
          "execution_count": 3
        }
      ]
    },
    {
      "cell_type": "code",
      "metadata": {
        "id": "K3l_77TOPqPx",
        "colab": {
          "base_uri": "https://localhost:8080/",
          "height": 204
        },
        "outputId": "517808be-a27d-4c45-894d-4de440c33e7a"
      },
      "source": [
        "project=data.copy()\n",
        "from sklearn.preprocessing import LabelEncoder\n",
        "lb_make=LabelEncoder()\n",
        "project['Income_Class']=lb_make.fit_transform(data['Income_Class'])\n",
        "project.head()"
      ],
      "execution_count": null,
      "outputs": [
        {
          "output_type": "execute_result",
          "data": {
            "text/html": [
              "<div>\n",
              "<style scoped>\n",
              "    .dataframe tbody tr th:only-of-type {\n",
              "        vertical-align: middle;\n",
              "    }\n",
              "\n",
              "    .dataframe tbody tr th {\n",
              "        vertical-align: top;\n",
              "    }\n",
              "\n",
              "    .dataframe thead th {\n",
              "        text-align: right;\n",
              "    }\n",
              "</style>\n",
              "<table border=\"1\" class=\"dataframe\">\n",
              "  <thead>\n",
              "    <tr style=\"text-align: right;\">\n",
              "      <th></th>\n",
              "      <th>year</th>\n",
              "      <th>Country</th>\n",
              "      <th>Country_Code</th>\n",
              "      <th>Income_Class</th>\n",
              "      <th>hdi</th>\n",
              "      <th>PSE</th>\n",
              "      <th>GDPG</th>\n",
              "      <th>DCPFS</th>\n",
              "      <th>POP</th>\n",
              "      <th>INOV</th>\n",
              "      <th>INTPINOV</th>\n",
              "      <th>INT</th>\n",
              "    </tr>\n",
              "  </thead>\n",
              "  <tbody>\n",
              "    <tr>\n",
              "      <th>0</th>\n",
              "      <td>2000</td>\n",
              "      <td>Afghanistan</td>\n",
              "      <td>AFG</td>\n",
              "      <td>1</td>\n",
              "      <td>0.00</td>\n",
              "      <td>20.95758</td>\n",
              "      <td>0.000000</td>\n",
              "      <td>0.0</td>\n",
              "      <td>20779953.0</td>\n",
              "      <td>0.0</td>\n",
              "      <td>0.000000</td>\n",
              "      <td>0.000000</td>\n",
              "    </tr>\n",
              "    <tr>\n",
              "      <th>1</th>\n",
              "      <td>2001</td>\n",
              "      <td>Afghanistan</td>\n",
              "      <td>AFG</td>\n",
              "      <td>1</td>\n",
              "      <td>0.00</td>\n",
              "      <td>20.88291</td>\n",
              "      <td>0.000000</td>\n",
              "      <td>0.0</td>\n",
              "      <td>21606988.0</td>\n",
              "      <td>0.0</td>\n",
              "      <td>0.000000</td>\n",
              "      <td>0.004723</td>\n",
              "    </tr>\n",
              "    <tr>\n",
              "      <th>2</th>\n",
              "      <td>2002</td>\n",
              "      <td>Afghanistan</td>\n",
              "      <td>AFG</td>\n",
              "      <td>1</td>\n",
              "      <td>0.37</td>\n",
              "      <td>68.98685</td>\n",
              "      <td>0.000000</td>\n",
              "      <td>0.0</td>\n",
              "      <td>22600770.0</td>\n",
              "      <td>0.0</td>\n",
              "      <td>0.000000</td>\n",
              "      <td>0.004561</td>\n",
              "    </tr>\n",
              "    <tr>\n",
              "      <th>3</th>\n",
              "      <td>2003</td>\n",
              "      <td>Afghanistan</td>\n",
              "      <td>AFG</td>\n",
              "      <td>1</td>\n",
              "      <td>0.38</td>\n",
              "      <td>93.36218</td>\n",
              "      <td>3.868362</td>\n",
              "      <td>0.0</td>\n",
              "      <td>23680871.0</td>\n",
              "      <td>7.3</td>\n",
              "      <td>0.641606</td>\n",
              "      <td>0.087891</td>\n",
              "    </tr>\n",
              "    <tr>\n",
              "      <th>4</th>\n",
              "      <td>2004</td>\n",
              "      <td>Afghanistan</td>\n",
              "      <td>AFG</td>\n",
              "      <td>1</td>\n",
              "      <td>0.40</td>\n",
              "      <td>104.66382</td>\n",
              "      <td>-2.875184</td>\n",
              "      <td>0.0</td>\n",
              "      <td>24726684.0</td>\n",
              "      <td>5.8</td>\n",
              "      <td>0.613692</td>\n",
              "      <td>0.105809</td>\n",
              "    </tr>\n",
              "  </tbody>\n",
              "</table>\n",
              "</div>"
            ],
            "text/plain": [
              "   year      Country Country_Code  ...  INOV  INTPINOV       INT\n",
              "0  2000  Afghanistan          AFG  ...   0.0  0.000000  0.000000\n",
              "1  2001  Afghanistan          AFG  ...   0.0  0.000000  0.004723\n",
              "2  2002  Afghanistan          AFG  ...   0.0  0.000000  0.004561\n",
              "3  2003  Afghanistan          AFG  ...   7.3  0.641606  0.087891\n",
              "4  2004  Afghanistan          AFG  ...   5.8  0.613692  0.105809\n",
              "\n",
              "[5 rows x 12 columns]"
            ]
          },
          "metadata": {
            "tags": []
          },
          "execution_count": 4
        }
      ]
    },
    {
      "cell_type": "code",
      "metadata": {
        "id": "_LIbmSGYQSYo"
      },
      "source": [
        "High=project[(project['Income_Class']==0)|(project['Income_Class']==3)]\n",
        "Low=project[(project['Income_Class']==1)|(project['Income_Class']==2)]"
      ],
      "execution_count": null,
      "outputs": []
    },
    {
      "cell_type": "code",
      "metadata": {
        "id": "fdUtwVn3VdZE",
        "colab": {
          "base_uri": "https://localhost:8080/",
          "height": 297
        },
        "outputId": "605ac0e8-bb71-424f-a92c-5513d7fc6ef5"
      },
      "source": [
        "data['PSE'].groupby(by=data['Income_Class']).describe().T.round(2)"
      ],
      "execution_count": null,
      "outputs": [
        {
          "output_type": "execute_result",
          "data": {
            "text/html": [
              "<div>\n",
              "<style scoped>\n",
              "    .dataframe tbody tr th:only-of-type {\n",
              "        vertical-align: middle;\n",
              "    }\n",
              "\n",
              "    .dataframe tbody tr th {\n",
              "        vertical-align: top;\n",
              "    }\n",
              "\n",
              "    .dataframe thead th {\n",
              "        text-align: right;\n",
              "    }\n",
              "</style>\n",
              "<table border=\"1\" class=\"dataframe\">\n",
              "  <thead>\n",
              "    <tr style=\"text-align: right;\">\n",
              "      <th>Income_Class</th>\n",
              "      <th>High income</th>\n",
              "      <th>Low income</th>\n",
              "      <th>Lower middle income</th>\n",
              "      <th>Upper middle income</th>\n",
              "    </tr>\n",
              "  </thead>\n",
              "  <tbody>\n",
              "    <tr>\n",
              "      <th>count</th>\n",
              "      <td>879.00</td>\n",
              "      <td>414.00</td>\n",
              "      <td>577.00</td>\n",
              "      <td>811.00</td>\n",
              "    </tr>\n",
              "    <tr>\n",
              "      <th>mean</th>\n",
              "      <td>88.57</td>\n",
              "      <td>84.67</td>\n",
              "      <td>85.92</td>\n",
              "      <td>89.95</td>\n",
              "    </tr>\n",
              "    <tr>\n",
              "      <th>std</th>\n",
              "      <td>35.88</td>\n",
              "      <td>45.21</td>\n",
              "      <td>39.41</td>\n",
              "      <td>38.87</td>\n",
              "    </tr>\n",
              "    <tr>\n",
              "      <th>min</th>\n",
              "      <td>0.00</td>\n",
              "      <td>0.00</td>\n",
              "      <td>0.00</td>\n",
              "      <td>0.00</td>\n",
              "    </tr>\n",
              "    <tr>\n",
              "      <th>25%</th>\n",
              "      <td>98.28</td>\n",
              "      <td>66.08</td>\n",
              "      <td>79.93</td>\n",
              "      <td>96.94</td>\n",
              "    </tr>\n",
              "    <tr>\n",
              "      <th>50%</th>\n",
              "      <td>101.27</td>\n",
              "      <td>94.05</td>\n",
              "      <td>101.12</td>\n",
              "      <td>103.25</td>\n",
              "    </tr>\n",
              "    <tr>\n",
              "      <th>75%</th>\n",
              "      <td>104.26</td>\n",
              "      <td>118.24</td>\n",
              "      <td>109.90</td>\n",
              "      <td>110.64</td>\n",
              "    </tr>\n",
              "    <tr>\n",
              "      <th>max</th>\n",
              "      <td>127.60</td>\n",
              "      <td>149.96</td>\n",
              "      <td>131.94</td>\n",
              "      <td>150.79</td>\n",
              "    </tr>\n",
              "  </tbody>\n",
              "</table>\n",
              "</div>"
            ],
            "text/plain": [
              "Income_Class  High income  Low income  Lower middle income  Upper middle income\n",
              "count              879.00      414.00               577.00               811.00\n",
              "mean                88.57       84.67                85.92                89.95\n",
              "std                 35.88       45.21                39.41                38.87\n",
              "min                  0.00        0.00                 0.00                 0.00\n",
              "25%                 98.28       66.08                79.93                96.94\n",
              "50%                101.27       94.05               101.12               103.25\n",
              "75%                104.26      118.24               109.90               110.64\n",
              "max                127.60      149.96               131.94               150.79"
            ]
          },
          "metadata": {
            "tags": []
          },
          "execution_count": 6
        }
      ]
    },
    {
      "cell_type": "code",
      "metadata": {
        "id": "wGNNPOFiOfMT",
        "colab": {
          "base_uri": "https://localhost:8080/",
          "height": 419
        },
        "outputId": "5e1fdec2-a5d4-4ec0-edd5-cb186576208a"
      },
      "source": [
        "data.groupby(by=data['Income_Class']).describe().T.round(2)"
      ],
      "execution_count": null,
      "outputs": [
        {
          "output_type": "execute_result",
          "data": {
            "text/html": [
              "<div>\n",
              "<style scoped>\n",
              "    .dataframe tbody tr th:only-of-type {\n",
              "        vertical-align: middle;\n",
              "    }\n",
              "\n",
              "    .dataframe tbody tr th {\n",
              "        vertical-align: top;\n",
              "    }\n",
              "\n",
              "    .dataframe thead th {\n",
              "        text-align: right;\n",
              "    }\n",
              "</style>\n",
              "<table border=\"1\" class=\"dataframe\">\n",
              "  <thead>\n",
              "    <tr style=\"text-align: right;\">\n",
              "      <th></th>\n",
              "      <th>Income_Class</th>\n",
              "      <th>High income</th>\n",
              "      <th>Low income</th>\n",
              "      <th>Lower middle income</th>\n",
              "      <th>Upper middle income</th>\n",
              "    </tr>\n",
              "  </thead>\n",
              "  <tbody>\n",
              "    <tr>\n",
              "      <th rowspan=\"5\" valign=\"top\">year</th>\n",
              "      <th>count</th>\n",
              "      <td>879.00</td>\n",
              "      <td>414.00</td>\n",
              "      <td>577.00</td>\n",
              "      <td>811.00</td>\n",
              "    </tr>\n",
              "    <tr>\n",
              "      <th>mean</th>\n",
              "      <td>2008.51</td>\n",
              "      <td>2008.50</td>\n",
              "      <td>2008.49</td>\n",
              "      <td>2008.51</td>\n",
              "    </tr>\n",
              "    <tr>\n",
              "      <th>std</th>\n",
              "      <td>5.18</td>\n",
              "      <td>5.19</td>\n",
              "      <td>5.20</td>\n",
              "      <td>5.20</td>\n",
              "    </tr>\n",
              "    <tr>\n",
              "      <th>min</th>\n",
              "      <td>2000.00</td>\n",
              "      <td>2000.00</td>\n",
              "      <td>2000.00</td>\n",
              "      <td>2000.00</td>\n",
              "    </tr>\n",
              "    <tr>\n",
              "      <th>25%</th>\n",
              "      <td>2004.00</td>\n",
              "      <td>2004.00</td>\n",
              "      <td>2004.00</td>\n",
              "      <td>2004.00</td>\n",
              "    </tr>\n",
              "    <tr>\n",
              "      <th>...</th>\n",
              "      <th>...</th>\n",
              "      <td>...</td>\n",
              "      <td>...</td>\n",
              "      <td>...</td>\n",
              "      <td>...</td>\n",
              "    </tr>\n",
              "    <tr>\n",
              "      <th rowspan=\"5\" valign=\"top\">INT</th>\n",
              "      <th>min</th>\n",
              "      <td>0.00</td>\n",
              "      <td>0.00</td>\n",
              "      <td>0.00</td>\n",
              "      <td>0.00</td>\n",
              "    </tr>\n",
              "    <tr>\n",
              "      <th>25%</th>\n",
              "      <td>36.07</td>\n",
              "      <td>0.37</td>\n",
              "      <td>1.80</td>\n",
              "      <td>6.45</td>\n",
              "    </tr>\n",
              "    <tr>\n",
              "      <th>50%</th>\n",
              "      <td>62.31</td>\n",
              "      <td>1.56</td>\n",
              "      <td>6.49</td>\n",
              "      <td>21.50</td>\n",
              "    </tr>\n",
              "    <tr>\n",
              "      <th>75%</th>\n",
              "      <td>78.72</td>\n",
              "      <td>5.27</td>\n",
              "      <td>16.70</td>\n",
              "      <td>41.96</td>\n",
              "    </tr>\n",
              "    <tr>\n",
              "      <th>max</th>\n",
              "      <td>100.00</td>\n",
              "      <td>34.00</td>\n",
              "      <td>64.19</td>\n",
              "      <td>81.76</td>\n",
              "    </tr>\n",
              "  </tbody>\n",
              "</table>\n",
              "<p>72 rows × 4 columns</p>\n",
              "</div>"
            ],
            "text/plain": [
              "Income_Class  High income  Low income  Lower middle income  Upper middle income\n",
              "year count         879.00      414.00               577.00               811.00\n",
              "     mean         2008.51     2008.50              2008.49              2008.51\n",
              "     std             5.18        5.19                 5.20                 5.20\n",
              "     min          2000.00     2000.00              2000.00              2000.00\n",
              "     25%          2004.00     2004.00              2004.00              2004.00\n",
              "...                   ...         ...                  ...                  ...\n",
              "INT  min             0.00        0.00                 0.00                 0.00\n",
              "     25%            36.07        0.37                 1.80                 6.45\n",
              "     50%            62.31        1.56                 6.49                21.50\n",
              "     75%            78.72        5.27                16.70                41.96\n",
              "     max           100.00       34.00                64.19                81.76\n",
              "\n",
              "[72 rows x 4 columns]"
            ]
          },
          "metadata": {
            "tags": []
          },
          "execution_count": 7
        }
      ]
    },
    {
      "cell_type": "code",
      "metadata": {
        "id": "3aq8SWjGVke7",
        "colab": {
          "base_uri": "https://localhost:8080/",
          "height": 297
        },
        "outputId": "95e915d8-3834-486e-fe27-f8b6d8e7fa34"
      },
      "source": [
        "project['GDPG'].groupby(by=project['Income_Class']).describe().T.round(2)"
      ],
      "execution_count": null,
      "outputs": [
        {
          "output_type": "execute_result",
          "data": {
            "text/html": [
              "<div>\n",
              "<style scoped>\n",
              "    .dataframe tbody tr th:only-of-type {\n",
              "        vertical-align: middle;\n",
              "    }\n",
              "\n",
              "    .dataframe tbody tr th {\n",
              "        vertical-align: top;\n",
              "    }\n",
              "\n",
              "    .dataframe thead th {\n",
              "        text-align: right;\n",
              "    }\n",
              "</style>\n",
              "<table border=\"1\" class=\"dataframe\">\n",
              "  <thead>\n",
              "    <tr style=\"text-align: right;\">\n",
              "      <th>Income_Class</th>\n",
              "      <th>0</th>\n",
              "      <th>1</th>\n",
              "      <th>2</th>\n",
              "      <th>3</th>\n",
              "    </tr>\n",
              "  </thead>\n",
              "  <tbody>\n",
              "    <tr>\n",
              "      <th>count</th>\n",
              "      <td>879.00</td>\n",
              "      <td>414.00</td>\n",
              "      <td>577.00</td>\n",
              "      <td>811.00</td>\n",
              "    </tr>\n",
              "    <tr>\n",
              "      <th>mean</th>\n",
              "      <td>1.56</td>\n",
              "      <td>2.00</td>\n",
              "      <td>3.27</td>\n",
              "      <td>3.12</td>\n",
              "    </tr>\n",
              "    <tr>\n",
              "      <th>std</th>\n",
              "      <td>3.75</td>\n",
              "      <td>4.99</td>\n",
              "      <td>4.95</td>\n",
              "      <td>7.33</td>\n",
              "    </tr>\n",
              "    <tr>\n",
              "      <th>min</th>\n",
              "      <td>-15.15</td>\n",
              "      <td>-36.20</td>\n",
              "      <td>-27.23</td>\n",
              "      <td>-62.38</td>\n",
              "    </tr>\n",
              "    <tr>\n",
              "      <th>25%</th>\n",
              "      <td>-0.04</td>\n",
              "      <td>0.00</td>\n",
              "      <td>0.90</td>\n",
              "      <td>0.70</td>\n",
              "    </tr>\n",
              "    <tr>\n",
              "      <th>50%</th>\n",
              "      <td>1.68</td>\n",
              "      <td>2.04</td>\n",
              "      <td>3.00</td>\n",
              "      <td>2.85</td>\n",
              "    </tr>\n",
              "    <tr>\n",
              "      <th>75%</th>\n",
              "      <td>3.40</td>\n",
              "      <td>4.22</td>\n",
              "      <td>5.20</td>\n",
              "      <td>5.34</td>\n",
              "    </tr>\n",
              "    <tr>\n",
              "      <th>max</th>\n",
              "      <td>23.99</td>\n",
              "      <td>28.68</td>\n",
              "      <td>59.90</td>\n",
              "      <td>121.78</td>\n",
              "    </tr>\n",
              "  </tbody>\n",
              "</table>\n",
              "</div>"
            ],
            "text/plain": [
              "Income_Class       0       1       2       3\n",
              "count         879.00  414.00  577.00  811.00\n",
              "mean            1.56    2.00    3.27    3.12\n",
              "std             3.75    4.99    4.95    7.33\n",
              "min           -15.15  -36.20  -27.23  -62.38\n",
              "25%            -0.04    0.00    0.90    0.70\n",
              "50%             1.68    2.04    3.00    2.85\n",
              "75%             3.40    4.22    5.20    5.34\n",
              "max            23.99   28.68   59.90  121.78"
            ]
          },
          "metadata": {
            "tags": []
          },
          "execution_count": 8
        }
      ]
    },
    {
      "cell_type": "code",
      "metadata": {
        "id": "9mvsy-JsWgim",
        "colab": {
          "base_uri": "https://localhost:8080/",
          "height": 170
        },
        "outputId": "13c39b10-349b-4dfc-f8bc-a90241dcd34c"
      },
      "source": [
        "#convert year to datetime\n",
        "project['year']=pd.to_datetime(project['year'],format='%Y')\n",
        "project=project.set_index('year',append=True)\n",
        "project.index=project.index.swaplevel(0,1)\n",
        "print(project.head())"
      ],
      "execution_count": null,
      "outputs": [
        {
          "output_type": "stream",
          "text": [
            "                  Country Country_Code  Income_Class  ...  INOV  INTPINOV       INT\n",
            "year                                                  ...                          \n",
            "2000-01-01 0  Afghanistan          AFG             1  ...   0.0  0.000000  0.000000\n",
            "2001-01-01 1  Afghanistan          AFG             1  ...   0.0  0.000000  0.004723\n",
            "2002-01-01 2  Afghanistan          AFG             1  ...   0.0  0.000000  0.004561\n",
            "2003-01-01 3  Afghanistan          AFG             1  ...   7.3  0.641606  0.087891\n",
            "2004-01-01 4  Afghanistan          AFG             1  ...   5.8  0.613692  0.105809\n",
            "\n",
            "[5 rows x 11 columns]\n"
          ],
          "name": "stdout"
        }
      ]
    },
    {
      "cell_type": "code",
      "metadata": {
        "id": "qlW7mo6TW8KL",
        "colab": {
          "base_uri": "https://localhost:8080/",
          "height": 170
        },
        "outputId": "f1fc60f0-66cf-470a-e721-cbc632672b62"
      },
      "source": [
        "data['year']=pd.to_datetime(data['year'],format='%Y')\n",
        "data=data.set_index('year',append=True)\n",
        "data.index=data.index.swaplevel(0,1)\n",
        "print(data.head())"
      ],
      "execution_count": null,
      "outputs": [
        {
          "output_type": "stream",
          "text": [
            "                  Country Country_Code Income_Class  ...  INOV  INTPINOV       INT\n",
            "year                                                 ...                          \n",
            "2000-01-01 0  Afghanistan          AFG   Low income  ...   0.0  0.000000  0.000000\n",
            "2001-01-01 1  Afghanistan          AFG   Low income  ...   0.0  0.000000  0.004723\n",
            "2002-01-01 2  Afghanistan          AFG   Low income  ...   0.0  0.000000  0.004561\n",
            "2003-01-01 3  Afghanistan          AFG   Low income  ...   7.3  0.641606  0.087891\n",
            "2004-01-01 4  Afghanistan          AFG   Low income  ...   5.8  0.613692  0.105809\n",
            "\n",
            "[5 rows x 11 columns]\n"
          ],
          "name": "stdout"
        }
      ]
    },
    {
      "cell_type": "code",
      "metadata": {
        "id": "A2vpps2j14oL",
        "colab": {
          "base_uri": "https://localhost:8080/",
          "height": 170
        },
        "outputId": "b02363c2-5fad-40be-ff2b-61fe7cdd8b19"
      },
      "source": [
        "Low['year']=pd.to_datetime(Low['year'],format='%Y')\n",
        "Low=Low.set_index('year',append=True)\n",
        "Low.index=Low.index.swaplevel(0,1)\n",
        "print(Low.head())"
      ],
      "execution_count": null,
      "outputs": [
        {
          "output_type": "stream",
          "text": [
            "                  Country Country_Code  Income_Class  ...  INOV  INTPINOV       INT\n",
            "year                                                  ...                          \n",
            "2000-01-01 0  Afghanistan          AFG             1  ...   0.0  0.000000  0.000000\n",
            "2001-01-01 1  Afghanistan          AFG             1  ...   0.0  0.000000  0.004723\n",
            "2002-01-01 2  Afghanistan          AFG             1  ...   0.0  0.000000  0.004561\n",
            "2003-01-01 3  Afghanistan          AFG             1  ...   7.3  0.641606  0.087891\n",
            "2004-01-01 4  Afghanistan          AFG             1  ...   5.8  0.613692  0.105809\n",
            "\n",
            "[5 rows x 11 columns]\n"
          ],
          "name": "stdout"
        }
      ]
    },
    {
      "cell_type": "code",
      "metadata": {
        "id": "7S4PWedz14sQ",
        "colab": {
          "base_uri": "https://localhost:8080/",
          "height": 170
        },
        "outputId": "08e91d69-1b19-472c-d867-93bac56d1fcf"
      },
      "source": [
        "High['year']=pd.to_datetime(High['year'],format='%Y')\n",
        "High=High.set_index('year',append=True)\n",
        "High.index=High.index.swaplevel(0,1)\n",
        "print(High.head())"
      ],
      "execution_count": null,
      "outputs": [
        {
          "output_type": "stream",
          "text": [
            "               Country Country_Code  Income_Class  ...  INOV   INTPINOV       INT\n",
            "year                                               ...                           \n",
            "2000-01-01 18  Albania          ALB             3  ...   0.0   0.000000  0.114097\n",
            "2001-01-01 19  Albania          ALB             3  ...   0.0   0.000000  0.325798\n",
            "2002-01-01 20  Albania          ALB             3  ...   0.0   0.000000  0.390081\n",
            "2003-01-01 21  Albania          ALB             3  ...  23.9  23.228420  0.971900\n",
            "2004-01-01 22  Albania          ALB             3  ...  22.0  53.248532  2.420388\n",
            "\n",
            "[5 rows x 11 columns]\n"
          ],
          "name": "stdout"
        }
      ]
    },
    {
      "cell_type": "code",
      "metadata": {
        "id": "osDszaf3YQIc"
      },
      "source": [
        "data.head()\n",
        "X=data.iloc[:,[4,5,6,8,10]]\n",
        "y=data.iloc[:,3:4]\n",
        "X_high=High.iloc[:,[4,5,6,8,10]]\n",
        "y_high=High.iloc[:,3:4]\n",
        "X_low=Low.iloc[:,[4,5,6,8,10]]\n",
        "y_low=Low.iloc[:,3:4]"
      ],
      "execution_count": null,
      "outputs": []
    },
    {
      "cell_type": "code",
      "metadata": {
        "id": "EMWV2Ez9ZR-9",
        "colab": {
          "base_uri": "https://localhost:8080/",
          "height": 204
        },
        "outputId": "0b80562c-ff55-4bd3-d155-2c0a18530ae1"
      },
      "source": [
        "print(X.head(3))\n",
        "print('-------------------')\n",
        "print(y.head(3))"
      ],
      "execution_count": null,
      "outputs": [
        {
          "output_type": "stream",
          "text": [
            "                   PSE  GDPG  DCPFS  INOV       INT\n",
            "year                                               \n",
            "2000-01-01 0  20.95758   0.0    0.0   0.0  0.000000\n",
            "2001-01-01 1  20.88291   0.0    0.0   0.0  0.004723\n",
            "2002-01-01 2  68.98685   0.0    0.0   0.0  0.004561\n",
            "-------------------\n",
            "               hdi\n",
            "year              \n",
            "2000-01-01 0  0.00\n",
            "2001-01-01 1  0.00\n",
            "2002-01-01 2  0.37\n"
          ],
          "name": "stdout"
        }
      ]
    },
    {
      "cell_type": "code",
      "metadata": {
        "id": "GIJzOwOSZyWU",
        "colab": {
          "base_uri": "https://localhost:8080/",
          "height": 235
        },
        "outputId": "3daee1b6-a52f-4450-d7c6-ca951b15c774"
      },
      "source": [
        "#create dummies variables\n",
        "var=data.copy()\n",
        "var_code=pd.get_dummies(var['Income_Class'])\n",
        "var_new=pd.concat([var,var_code],axis=1)\n",
        "var_new.head()"
      ],
      "execution_count": null,
      "outputs": [
        {
          "output_type": "execute_result",
          "data": {
            "text/html": [
              "<div>\n",
              "<style scoped>\n",
              "    .dataframe tbody tr th:only-of-type {\n",
              "        vertical-align: middle;\n",
              "    }\n",
              "\n",
              "    .dataframe tbody tr th {\n",
              "        vertical-align: top;\n",
              "    }\n",
              "\n",
              "    .dataframe thead th {\n",
              "        text-align: right;\n",
              "    }\n",
              "</style>\n",
              "<table border=\"1\" class=\"dataframe\">\n",
              "  <thead>\n",
              "    <tr style=\"text-align: right;\">\n",
              "      <th></th>\n",
              "      <th></th>\n",
              "      <th>Country</th>\n",
              "      <th>Country_Code</th>\n",
              "      <th>Income_Class</th>\n",
              "      <th>hdi</th>\n",
              "      <th>PSE</th>\n",
              "      <th>GDPG</th>\n",
              "      <th>DCPFS</th>\n",
              "      <th>POP</th>\n",
              "      <th>INOV</th>\n",
              "      <th>INTPINOV</th>\n",
              "      <th>INT</th>\n",
              "      <th>High income</th>\n",
              "      <th>Low income</th>\n",
              "      <th>Lower middle income</th>\n",
              "      <th>Upper middle income</th>\n",
              "    </tr>\n",
              "    <tr>\n",
              "      <th>year</th>\n",
              "      <th></th>\n",
              "      <th></th>\n",
              "      <th></th>\n",
              "      <th></th>\n",
              "      <th></th>\n",
              "      <th></th>\n",
              "      <th></th>\n",
              "      <th></th>\n",
              "      <th></th>\n",
              "      <th></th>\n",
              "      <th></th>\n",
              "      <th></th>\n",
              "      <th></th>\n",
              "      <th></th>\n",
              "      <th></th>\n",
              "      <th></th>\n",
              "    </tr>\n",
              "  </thead>\n",
              "  <tbody>\n",
              "    <tr>\n",
              "      <th>2000-01-01</th>\n",
              "      <th>0</th>\n",
              "      <td>Afghanistan</td>\n",
              "      <td>AFG</td>\n",
              "      <td>Low income</td>\n",
              "      <td>0.00</td>\n",
              "      <td>20.95758</td>\n",
              "      <td>0.000000</td>\n",
              "      <td>0.0</td>\n",
              "      <td>20779953.0</td>\n",
              "      <td>0.0</td>\n",
              "      <td>0.000000</td>\n",
              "      <td>0.000000</td>\n",
              "      <td>0</td>\n",
              "      <td>1</td>\n",
              "      <td>0</td>\n",
              "      <td>0</td>\n",
              "    </tr>\n",
              "    <tr>\n",
              "      <th>2001-01-01</th>\n",
              "      <th>1</th>\n",
              "      <td>Afghanistan</td>\n",
              "      <td>AFG</td>\n",
              "      <td>Low income</td>\n",
              "      <td>0.00</td>\n",
              "      <td>20.88291</td>\n",
              "      <td>0.000000</td>\n",
              "      <td>0.0</td>\n",
              "      <td>21606988.0</td>\n",
              "      <td>0.0</td>\n",
              "      <td>0.000000</td>\n",
              "      <td>0.004723</td>\n",
              "      <td>0</td>\n",
              "      <td>1</td>\n",
              "      <td>0</td>\n",
              "      <td>0</td>\n",
              "    </tr>\n",
              "    <tr>\n",
              "      <th>2002-01-01</th>\n",
              "      <th>2</th>\n",
              "      <td>Afghanistan</td>\n",
              "      <td>AFG</td>\n",
              "      <td>Low income</td>\n",
              "      <td>0.37</td>\n",
              "      <td>68.98685</td>\n",
              "      <td>0.000000</td>\n",
              "      <td>0.0</td>\n",
              "      <td>22600770.0</td>\n",
              "      <td>0.0</td>\n",
              "      <td>0.000000</td>\n",
              "      <td>0.004561</td>\n",
              "      <td>0</td>\n",
              "      <td>1</td>\n",
              "      <td>0</td>\n",
              "      <td>0</td>\n",
              "    </tr>\n",
              "    <tr>\n",
              "      <th>2003-01-01</th>\n",
              "      <th>3</th>\n",
              "      <td>Afghanistan</td>\n",
              "      <td>AFG</td>\n",
              "      <td>Low income</td>\n",
              "      <td>0.38</td>\n",
              "      <td>93.36218</td>\n",
              "      <td>3.868362</td>\n",
              "      <td>0.0</td>\n",
              "      <td>23680871.0</td>\n",
              "      <td>7.3</td>\n",
              "      <td>0.641606</td>\n",
              "      <td>0.087891</td>\n",
              "      <td>0</td>\n",
              "      <td>1</td>\n",
              "      <td>0</td>\n",
              "      <td>0</td>\n",
              "    </tr>\n",
              "    <tr>\n",
              "      <th>2004-01-01</th>\n",
              "      <th>4</th>\n",
              "      <td>Afghanistan</td>\n",
              "      <td>AFG</td>\n",
              "      <td>Low income</td>\n",
              "      <td>0.40</td>\n",
              "      <td>104.66382</td>\n",
              "      <td>-2.875184</td>\n",
              "      <td>0.0</td>\n",
              "      <td>24726684.0</td>\n",
              "      <td>5.8</td>\n",
              "      <td>0.613692</td>\n",
              "      <td>0.105809</td>\n",
              "      <td>0</td>\n",
              "      <td>1</td>\n",
              "      <td>0</td>\n",
              "      <td>0</td>\n",
              "    </tr>\n",
              "  </tbody>\n",
              "</table>\n",
              "</div>"
            ],
            "text/plain": [
              "                  Country  ... Upper middle income\n",
              "year                       ...                    \n",
              "2000-01-01 0  Afghanistan  ...                   0\n",
              "2001-01-01 1  Afghanistan  ...                   0\n",
              "2002-01-01 2  Afghanistan  ...                   0\n",
              "2003-01-01 3  Afghanistan  ...                   0\n",
              "2004-01-01 4  Afghanistan  ...                   0\n",
              "\n",
              "[5 rows x 15 columns]"
            ]
          },
          "metadata": {
            "tags": []
          },
          "execution_count": 15
        }
      ]
    },
    {
      "cell_type": "code",
      "metadata": {
        "id": "iOUJxImsx1Oz",
        "colab": {
          "base_uri": "https://localhost:8080/",
          "height": 612
        },
        "outputId": "30357f97-4084-40e9-cd56-0956a686f152"
      },
      "source": [
        "#Panels OLS for everything\n",
        "mod = PanelOLS(y, X, entity_effects=True)\n",
        "res = mod.fit(cov_type='clustered', cluster_entity=True)\n",
        "print(res)"
      ],
      "execution_count": null,
      "outputs": [
        {
          "output_type": "stream",
          "text": [
            "                          PanelOLS Estimation Summary                           \n",
            "================================================================================\n",
            "Dep. Variable:                    hdi   R-squared:                        0.5744\n",
            "Estimator:                   PanelOLS   R-squared (Between):              0.4992\n",
            "No. Observations:                2681   R-squared (Within):               0.5744\n",
            "Date:                Fri, Jun 12 2020   R-squared (Overall):              0.5044\n",
            "Time:                        01:00:08   Log-likelihood                    1937.7\n",
            "Cov. Estimator:             Clustered                                           \n",
            "                                        F-statistic:                      717.37\n",
            "Entities:                          18   P-value                           0.0000\n",
            "Avg Obs:                       148.94   Distribution:                  F(5,2658)\n",
            "Min Obs:                       148.00                                           \n",
            "Max Obs:                       149.00   F-statistic (robust):             2339.1\n",
            "                                        P-value                           0.0000\n",
            "Time periods:                    2681   Distribution:                  F(5,2658)\n",
            "Avg Obs:                       1.0000                                           \n",
            "Min Obs:                       1.0000                                           \n",
            "Max Obs:                       1.0000                                           \n",
            "                                                                                \n",
            "                             Parameter Estimates                              \n",
            "==============================================================================\n",
            "            Parameter  Std. Err.     T-stat    P-value    Lower CI    Upper CI\n",
            "------------------------------------------------------------------------------\n",
            "PSE            0.0003     0.0001     2.5480     0.0109   7.711e-05      0.0006\n",
            "GDPG           0.0020     0.0005     3.8672     0.0001      0.0010      0.0031\n",
            "DCPFS          0.0001  5.563e-05     1.9556     0.0506  -2.898e-07      0.0002\n",
            "INOV        3.421e-08  3.164e-08     1.0810     0.2798  -2.784e-08   9.625e-08\n",
            "INT            0.0053     0.0002     30.777     0.0000      0.0049      0.0056\n",
            "==============================================================================\n",
            "\n",
            "F-test for Poolability: 11.436\n",
            "P-value: 0.0000\n",
            "Distribution: F(17,2658)\n",
            "\n",
            "Included effects: Entity\n"
          ],
          "name": "stdout"
        }
      ]
    },
    {
      "cell_type": "code",
      "metadata": {
        "id": "sstY1v_u0Mzn",
        "colab": {
          "base_uri": "https://localhost:8080/",
          "height": 612
        },
        "outputId": "dda4ed9a-219a-48fd-f735-b1473516d987"
      },
      "source": [
        "#Panels OLS for Low\n",
        "mod_low = PanelOLS(y_low, X_low, entity_effects=True)\n",
        "res_low = mod_low.fit(cov_type='clustered', cluster_entity=True)\n",
        "print(res_low)"
      ],
      "execution_count": null,
      "outputs": [
        {
          "output_type": "stream",
          "text": [
            "                          PanelOLS Estimation Summary                           \n",
            "================================================================================\n",
            "Dep. Variable:                    hdi   R-squared:                        0.2486\n",
            "Estimator:                   PanelOLS   R-squared (Between):              0.3788\n",
            "No. Observations:                 991   R-squared (Within):               0.2486\n",
            "Date:                Fri, Nov 15 2019   R-squared (Overall):              0.3708\n",
            "Time:                        20:59:58   Log-likelihood                    799.13\n",
            "Cov. Estimator:             Clustered                                           \n",
            "                                        F-statistic:                      64.064\n",
            "Entities:                          18   P-value                           0.0000\n",
            "Avg Obs:                       55.056   Distribution:                   F(5,968)\n",
            "Min Obs:                       55.000                                           \n",
            "Max Obs:                       56.000   F-statistic (robust):             118.59\n",
            "                                        P-value                           0.0000\n",
            "Time periods:                     991   Distribution:                   F(5,968)\n",
            "Avg Obs:                       1.0000                                           \n",
            "Min Obs:                       1.0000                                           \n",
            "Max Obs:                       1.0000                                           \n",
            "                                                                                \n",
            "                             Parameter Estimates                              \n",
            "==============================================================================\n",
            "            Parameter  Std. Err.     T-stat    P-value    Lower CI    Upper CI\n",
            "------------------------------------------------------------------------------\n",
            "PSE            0.0003  9.445e-05     3.5105     0.0005      0.0001      0.0005\n",
            "GDPG           0.0032     0.0007     4.5665     0.0000      0.0018      0.0046\n",
            "DCPFS          0.0006  7.233e-05     8.2741     0.0000      0.0005      0.0007\n",
            "INOV        7.098e-07  1.384e-07     5.1275     0.0000   4.382e-07   9.815e-07\n",
            "INT            0.0054     0.0005     10.792     0.0000      0.0044      0.0063\n",
            "==============================================================================\n",
            "\n",
            "F-test for Poolability: 3.3370\n",
            "P-value: 0.0000\n",
            "Distribution: F(17,968)\n",
            "\n",
            "Included effects: Entity\n"
          ],
          "name": "stdout"
        }
      ]
    },
    {
      "cell_type": "code",
      "metadata": {
        "id": "LUqUUkQE2rdY",
        "colab": {
          "base_uri": "https://localhost:8080/",
          "height": 612
        },
        "outputId": "2e708f9f-e57a-4572-fec2-9497cd09f3ec"
      },
      "source": [
        "#Panels OLS for High\n",
        "mod_high = PanelOLS(y_high, X_high, entity_effects=True)\n",
        "res_high = mod_high.fit(cov_type='clustered', cluster_entity=True)\n",
        "print(res_high)"
      ],
      "execution_count": null,
      "outputs": [
        {
          "output_type": "stream",
          "text": [
            "                          PanelOLS Estimation Summary                           \n",
            "================================================================================\n",
            "Dep. Variable:                    hdi   R-squared:                        0.4699\n",
            "Estimator:                   PanelOLS   R-squared (Between):              0.3743\n",
            "No. Observations:                1690   R-squared (Within):               0.4699\n",
            "Date:                Fri, Nov 15 2019   R-squared (Overall):              0.3762\n",
            "Time:                        20:59:59   Log-likelihood                    1904.1\n",
            "Cov. Estimator:             Clustered                                           \n",
            "                                        F-statistic:                      295.48\n",
            "Entities:                          18   P-value                           0.0000\n",
            "Avg Obs:                       93.889   Distribution:                  F(5,1667)\n",
            "Min Obs:                       92.000                                           \n",
            "Max Obs:                       94.000   F-statistic (robust):             844.43\n",
            "                                        P-value                           0.0000\n",
            "Time periods:                    1690   Distribution:                  F(5,1667)\n",
            "Avg Obs:                       1.0000                                           \n",
            "Min Obs:                       1.0000                                           \n",
            "Max Obs:                       1.0000                                           \n",
            "                                                                                \n",
            "                             Parameter Estimates                              \n",
            "==============================================================================\n",
            "            Parameter  Std. Err.     T-stat    P-value    Lower CI    Upper CI\n",
            "------------------------------------------------------------------------------\n",
            "PSE            0.0003  9.192e-05     2.8371     0.0046   8.049e-05      0.0004\n",
            "GDPG           0.0003     0.0004     0.8501     0.3954     -0.0004      0.0011\n",
            "DCPFS          0.0001  4.132e-05     2.5106     0.0121   2.269e-05      0.0002\n",
            "INOV        6.169e-08  1.396e-08     4.4192     0.0000   3.431e-08   8.907e-08\n",
            "INT            0.0031     0.0002     18.864     0.0000      0.0028      0.0034\n",
            "==============================================================================\n",
            "\n",
            "F-test for Poolability: 6.4700\n",
            "P-value: 0.0000\n",
            "Distribution: F(17,1667)\n",
            "\n",
            "Included effects: Entity\n"
          ],
          "name": "stdout"
        }
      ]
    },
    {
      "cell_type": "code",
      "metadata": {
        "id": "jkl7-UsT23jR",
        "colab": {
          "base_uri": "https://localhost:8080/",
          "height": 510
        },
        "outputId": "ffea065b-e941-4ec5-97ab-9b13d1f05fda"
      },
      "source": [
        "#Panels First Difference for everything\n",
        "from linearmodels import BetweenOLS\n",
        "mod_first = BetweenOLS(y, X)\n",
        "res_first = mod_first.fit(cov_type='robust')\n",
        "#res_first = mod_first.fit(cov_type='clustered', cluster_entity=True)\n",
        "print(res_first)"
      ],
      "execution_count": null,
      "outputs": [
        {
          "output_type": "stream",
          "text": [
            "                         BetweenOLS Estimation Summary                          \n",
            "================================================================================\n",
            "Dep. Variable:                    hdi   R-squared:                        0.9997\n",
            "Estimator:                 BetweenOLS   R-squared (Between):              0.9997\n",
            "No. Observations:                  18   R-squared (Within):              -0.9627\n",
            "Date:                Fri, Nov 15 2019   R-squared (Overall):              0.8677\n",
            "Time:                        21:00:00   Log-likelihood                    54.903\n",
            "Cov. Estimator:                Robust                                           \n",
            "                                        F-statistic:                      8896.6\n",
            "Entities:                          18   P-value                           0.0000\n",
            "Avg Obs:                       148.94   Distribution:                    F(5,13)\n",
            "Min Obs:                       148.00                                           \n",
            "Max Obs:                       149.00   F-statistic (robust):          1.012e+04\n",
            "                                        P-value                           0.0000\n",
            "Time periods:                    2681   Distribution:                    F(5,13)\n",
            "Avg Obs:                       1.0000                                           \n",
            "Min Obs:                       1.0000                                           \n",
            "Max Obs:                       1.0000                                           \n",
            "                                                                                \n",
            "                             Parameter Estimates                              \n",
            "==============================================================================\n",
            "            Parameter  Std. Err.     T-stat    P-value    Lower CI    Upper CI\n",
            "------------------------------------------------------------------------------\n",
            "PSE            0.0056     0.0005     12.225     0.0000      0.0046      0.0066\n",
            "GDPG           0.0041     0.0021     1.9355     0.0750     -0.0005      0.0086\n",
            "DCPFS          0.0017     0.0010     1.7106     0.1109     -0.0004      0.0037\n",
            "INOV       -1.564e-06  6.411e-07    -2.4399     0.0298  -2.949e-06  -1.792e-07\n",
            "INT            0.0028     0.0006     4.9474     0.0003      0.0016      0.0041\n",
            "==============================================================================\n"
          ],
          "name": "stdout"
        }
      ]
    },
    {
      "cell_type": "code",
      "metadata": {
        "id": "CG0gTh5z4YZy",
        "colab": {
          "base_uri": "https://localhost:8080/",
          "height": 510
        },
        "outputId": "bdec3f6f-c7db-44ff-8591-22fa4ecc856b"
      },
      "source": [
        "#Panels First Difference for Low\n",
        "from linearmodels import BetweenOLS\n",
        "mod_f_low = BetweenOLS(y_low, X_low)\n",
        "res_f_low = mod_f_low.fit(cov_type='robust')\n",
        "print(res_f_low)"
      ],
      "execution_count": null,
      "outputs": [
        {
          "output_type": "stream",
          "text": [
            "                         BetweenOLS Estimation Summary                          \n",
            "================================================================================\n",
            "Dep. Variable:                    hdi   R-squared:                        0.9991\n",
            "Estimator:                 BetweenOLS   R-squared (Between):              0.9991\n",
            "No. Observations:                  18   R-squared (Within):              -1.7163\n",
            "Date:                Fri, Nov 15 2019   R-squared (Overall):              0.8346\n",
            "Time:                        21:00:02   Log-likelihood                    50.761\n",
            "Cov. Estimator:                Robust                                           \n",
            "                                        F-statistic:                      3008.8\n",
            "Entities:                          18   P-value                           0.0000\n",
            "Avg Obs:                       55.056   Distribution:                    F(5,13)\n",
            "Min Obs:                       55.000                                           \n",
            "Max Obs:                       56.000   F-statistic (robust):             4878.6\n",
            "                                        P-value                           0.0000\n",
            "Time periods:                     991   Distribution:                    F(5,13)\n",
            "Avg Obs:                       1.0000                                           \n",
            "Min Obs:                       1.0000                                           \n",
            "Max Obs:                       1.0000                                           \n",
            "                                                                                \n",
            "                             Parameter Estimates                              \n",
            "==============================================================================\n",
            "            Parameter  Std. Err.     T-stat    P-value    Lower CI    Upper CI\n",
            "------------------------------------------------------------------------------\n",
            "PSE            0.0044     0.0012     3.6009     0.0032      0.0018      0.0070\n",
            "GDPG           0.0072     0.0056     1.2777     0.2237     -0.0050      0.0193\n",
            "DCPFS          0.0013     0.0033     0.3785     0.7112     -0.0059      0.0084\n",
            "INOV        2.045e-06  5.122e-06     0.3993     0.6961   -9.02e-06   1.311e-05\n",
            "INT            0.0061     0.0015     4.0938     0.0013      0.0029      0.0094\n",
            "==============================================================================\n"
          ],
          "name": "stdout"
        }
      ]
    },
    {
      "cell_type": "code",
      "metadata": {
        "id": "PHMszX9C6jsc",
        "colab": {
          "base_uri": "https://localhost:8080/",
          "height": 510
        },
        "outputId": "aa158671-042d-4e15-d760-9e4cd7d3e66e"
      },
      "source": [
        "#Panels First Difference for High\n",
        "mod_f_high = BetweenOLS(y_high, X_high)\n",
        "res_f_high = mod_f_high.fit(cov_type='robust')\n",
        "print(res_f_high)"
      ],
      "execution_count": null,
      "outputs": [
        {
          "output_type": "stream",
          "text": [
            "                         BetweenOLS Estimation Summary                          \n",
            "================================================================================\n",
            "Dep. Variable:                    hdi   R-squared:                        0.9996\n",
            "Estimator:                 BetweenOLS   R-squared (Between):              0.9996\n",
            "No. Observations:                  18   R-squared (Within):              -4.9745\n",
            "Date:                Fri, Nov 15 2019   R-squared (Overall):              0.8867\n",
            "Time:                        21:00:03   Log-likelihood                    48.970\n",
            "Cov. Estimator:                Robust                                           \n",
            "                                        F-statistic:                      6166.8\n",
            "Entities:                          18   P-value                           0.0000\n",
            "Avg Obs:                       93.889   Distribution:                    F(5,13)\n",
            "Min Obs:                       92.000                                           \n",
            "Max Obs:                       94.000   F-statistic (robust):             8255.5\n",
            "                                        P-value                           0.0000\n",
            "Time periods:                    1690   Distribution:                    F(5,13)\n",
            "Avg Obs:                       1.0000                                           \n",
            "Min Obs:                       1.0000                                           \n",
            "Max Obs:                       1.0000                                           \n",
            "                                                                                \n",
            "                             Parameter Estimates                              \n",
            "==============================================================================\n",
            "            Parameter  Std. Err.     T-stat    P-value    Lower CI    Upper CI\n",
            "------------------------------------------------------------------------------\n",
            "PSE            0.0065     0.0004     14.407     0.0000      0.0055      0.0074\n",
            "GDPG           0.0030     0.0026     1.1769     0.2603     -0.0025      0.0086\n",
            "DCPFS          0.0017     0.0008     1.9816     0.0691     -0.0002      0.0035\n",
            "INOV       -1.004e-06  6.571e-07    -1.5273     0.1506  -2.423e-06    4.16e-07\n",
            "INT            0.0019     0.0005     3.5963     0.0033      0.0008      0.0031\n",
            "==============================================================================\n"
          ],
          "name": "stdout"
        }
      ]
    },
    {
      "cell_type": "code",
      "metadata": {
        "id": "kyOuYeCG689-",
        "colab": {
          "base_uri": "https://localhost:8080/",
          "height": 510
        },
        "outputId": "91eb6507-e48b-4624-dc04-131856c491c9"
      },
      "source": [
        "#random effects for high\n",
        "mod_f_highr = RandomEffects(y_high, X_high)\n",
        "res_f_highr = mod_f_highr.fit(cov_type='robust')\n",
        "print(res_f_highr)"
      ],
      "execution_count": null,
      "outputs": [
        {
          "output_type": "stream",
          "text": [
            "                        RandomEffects Estimation Summary                        \n",
            "================================================================================\n",
            "Dep. Variable:                    hdi   R-squared:                        0.7323\n",
            "Estimator:              RandomEffects   R-squared (Between):              0.9011\n",
            "No. Observations:                1690   R-squared (Within):              -0.9231\n",
            "Date:                Fri, Nov 15 2019   R-squared (Overall):              0.8667\n",
            "Time:                        21:00:04   Log-likelihood                    470.22\n",
            "Cov. Estimator:                Robust                                           \n",
            "                                        F-statistic:                      921.66\n",
            "Entities:                          18   P-value                           0.0000\n",
            "Avg Obs:                       93.889   Distribution:                  F(5,1685)\n",
            "Min Obs:                       92.000                                           \n",
            "Max Obs:                       94.000   F-statistic (robust):             1956.4\n",
            "                                        P-value                           0.0000\n",
            "Time periods:                    1690   Distribution:                  F(5,1685)\n",
            "Avg Obs:                       1.0000                                           \n",
            "Min Obs:                       1.0000                                           \n",
            "Max Obs:                       1.0000                                           \n",
            "                                                                                \n",
            "                             Parameter Estimates                              \n",
            "==============================================================================\n",
            "            Parameter  Std. Err.     T-stat    P-value    Lower CI    Upper CI\n",
            "------------------------------------------------------------------------------\n",
            "PSE            0.0029     0.0001     25.479     0.0000      0.0027      0.0032\n",
            "GDPG           0.0050     0.0013     3.7494     0.0002      0.0024      0.0076\n",
            "DCPFS          0.0003  9.093e-05     3.1454     0.0017      0.0001      0.0005\n",
            "INOV       -5.835e-08  4.452e-08    -1.3105     0.1902  -1.457e-07   2.897e-08\n",
            "INT            0.0059     0.0002     27.272     0.0000      0.0055      0.0064\n",
            "==============================================================================\n"
          ],
          "name": "stdout"
        }
      ]
    },
    {
      "cell_type": "code",
      "metadata": {
        "id": "yKwZQWdG8k81",
        "colab": {
          "base_uri": "https://localhost:8080/",
          "height": 510
        },
        "outputId": "2492123f-b1dc-49c8-d074-f7ebcd0d28b9"
      },
      "source": [
        "#random effects for low\n",
        "mod_f_lowr = RandomEffects(y_low, X_low)\n",
        "res_f_lowr = mod_f_lowr.fit(cov_type='robust')\n",
        "print(res_f_lowr)"
      ],
      "execution_count": null,
      "outputs": [
        {
          "output_type": "stream",
          "text": [
            "                        RandomEffects Estimation Summary                        \n",
            "================================================================================\n",
            "Dep. Variable:                    hdi   R-squared:                        0.8327\n",
            "Estimator:              RandomEffects   R-squared (Between):              0.9770\n",
            "No. Observations:                 991   R-squared (Within):              -0.8507\n",
            "Date:                Fri, Nov 15 2019   R-squared (Overall):              0.8662\n",
            "Time:                        21:00:06   Log-likelihood                    285.22\n",
            "Cov. Estimator:                Robust                                           \n",
            "                                        F-statistic:                      981.72\n",
            "Entities:                          18   P-value                           0.0000\n",
            "Avg Obs:                       55.056   Distribution:                   F(5,986)\n",
            "Min Obs:                       55.000                                           \n",
            "Max Obs:                       56.000   F-statistic (robust):             1665.6\n",
            "                                        P-value                           0.0000\n",
            "Time periods:                     991   Distribution:                   F(5,986)\n",
            "Avg Obs:                       1.0000                                           \n",
            "Min Obs:                       1.0000                                           \n",
            "Max Obs:                       1.0000                                           \n",
            "                                                                                \n",
            "                             Parameter Estimates                              \n",
            "==============================================================================\n",
            "            Parameter  Std. Err.     T-stat    P-value    Lower CI    Upper CI\n",
            "------------------------------------------------------------------------------\n",
            "PSE            0.0029  9.796e-05     29.497     0.0000      0.0027      0.0031\n",
            "GDPG           0.0094     0.0016     5.7299     0.0000      0.0062      0.0126\n",
            "DCPFS          0.0028     0.0003     8.3066     0.0000      0.0022      0.0035\n",
            "INOV       -3.516e-07  3.933e-07    -0.8940     0.3716  -1.123e-06   4.202e-07\n",
            "INT            0.0066     0.0007     9.3364     0.0000      0.0052      0.0079\n",
            "==============================================================================\n"
          ],
          "name": "stdout"
        }
      ]
    },
    {
      "cell_type": "code",
      "metadata": {
        "id": "kXXc_BGf89jo",
        "colab": {
          "base_uri": "https://localhost:8080/",
          "height": 510
        },
        "outputId": "7a336e91-45ba-4c4f-a996-60a838fb78cc"
      },
      "source": [
        "#random effects for everything\n",
        "mod_f_all = RandomEffects(y, X)\n",
        "res_f_all = mod_f_all.fit(cov_type='robust')\n",
        "print(res_f_all)"
      ],
      "execution_count": null,
      "outputs": [
        {
          "output_type": "stream",
          "text": [
            "                        RandomEffects Estimation Summary                        \n",
            "================================================================================\n",
            "Dep. Variable:                    hdi   R-squared:                        0.8407\n",
            "Estimator:              RandomEffects   R-squared (Between):              0.9667\n",
            "No. Observations:                2681   R-squared (Within):              -0.0573\n",
            "Date:                Fri, Nov 15 2019   R-squared (Overall):              0.8978\n",
            "Time:                        21:00:07   Log-likelihood                    446.83\n",
            "Cov. Estimator:                Robust                                           \n",
            "                                        F-statistic:                      2823.5\n",
            "Entities:                          18   P-value                           0.0000\n",
            "Avg Obs:                       148.94   Distribution:                  F(5,2676)\n",
            "Min Obs:                       148.00                                           \n",
            "Max Obs:                       149.00   F-statistic (robust):             6904.4\n",
            "                                        P-value                           0.0000\n",
            "Time periods:                    2681   Distribution:                  F(5,2676)\n",
            "Avg Obs:                       1.0000                                           \n",
            "Min Obs:                       1.0000                                           \n",
            "Max Obs:                       1.0000                                           \n",
            "                                                                                \n",
            "                             Parameter Estimates                              \n",
            "==============================================================================\n",
            "            Parameter  Std. Err.     T-stat    P-value    Lower CI    Upper CI\n",
            "------------------------------------------------------------------------------\n",
            "PSE            0.0035  7.056e-05     49.888     0.0000      0.0034      0.0037\n",
            "GDPG           0.0075     0.0013     5.8955     0.0000      0.0050      0.0100\n",
            "DCPFS          0.0008     0.0001     7.9159     0.0000      0.0006      0.0010\n",
            "INOV       -1.654e-07  5.042e-08    -3.2809     0.0010  -2.643e-07  -6.656e-08\n",
            "INT            0.0063     0.0002     34.337     0.0000      0.0059      0.0066\n",
            "==============================================================================\n"
          ],
          "name": "stdout"
        }
      ]
    },
    {
      "cell_type": "code",
      "metadata": {
        "id": "AwLdtuH8Bwq6"
      },
      "source": [
        "import numpy as np\n",
        "import matplotlib.pyplot as plt\n",
        "import pandas as pd\n",
        "import scipy.io\n",
        "from sklearn.decomposition import PCA\n",
        "from sklearn import svm\n",
        "from sklearn import model_selection\n",
        "from sklearn.model_selection import train_test_split\n",
        "from sklearn.metrics import confusion_matrix\n",
        "from matplotlib import style\n",
        "from sklearn.preprocessing import MinMaxScaler\n",
        "from sklearn.preprocessing import minmax_scale\n",
        "from sklearn.preprocessing import MaxAbsScaler\n",
        "from sklearn.preprocessing import StandardScaler\n",
        "from sklearn.preprocessing import RobustScaler\n",
        "from sklearn.preprocessing import Normalizer\n",
        "from sklearn.preprocessing import QuantileTransformer\n",
        "from sklearn.preprocessing import PowerTransformer"
      ],
      "execution_count": null,
      "outputs": []
    },
    {
      "cell_type": "code",
      "metadata": {
        "id": "AeJnAm4GB_KX",
        "colab": {
          "base_uri": "https://localhost:8080/",
          "height": 235
        },
        "outputId": "67689df5-66f9-4086-e372-e854879c6224"
      },
      "source": [
        "ylow=Low.iloc[:,2:3]\n",
        "ylow.head()"
      ],
      "execution_count": null,
      "outputs": [
        {
          "output_type": "execute_result",
          "data": {
            "text/html": [
              "<div>\n",
              "<style scoped>\n",
              "    .dataframe tbody tr th:only-of-type {\n",
              "        vertical-align: middle;\n",
              "    }\n",
              "\n",
              "    .dataframe tbody tr th {\n",
              "        vertical-align: top;\n",
              "    }\n",
              "\n",
              "    .dataframe thead th {\n",
              "        text-align: right;\n",
              "    }\n",
              "</style>\n",
              "<table border=\"1\" class=\"dataframe\">\n",
              "  <thead>\n",
              "    <tr style=\"text-align: right;\">\n",
              "      <th></th>\n",
              "      <th></th>\n",
              "      <th>Income_Class</th>\n",
              "    </tr>\n",
              "    <tr>\n",
              "      <th>year</th>\n",
              "      <th></th>\n",
              "      <th></th>\n",
              "    </tr>\n",
              "  </thead>\n",
              "  <tbody>\n",
              "    <tr>\n",
              "      <th>2000-01-01</th>\n",
              "      <th>0</th>\n",
              "      <td>1</td>\n",
              "    </tr>\n",
              "    <tr>\n",
              "      <th>2001-01-01</th>\n",
              "      <th>1</th>\n",
              "      <td>1</td>\n",
              "    </tr>\n",
              "    <tr>\n",
              "      <th>2002-01-01</th>\n",
              "      <th>2</th>\n",
              "      <td>1</td>\n",
              "    </tr>\n",
              "    <tr>\n",
              "      <th>2003-01-01</th>\n",
              "      <th>3</th>\n",
              "      <td>1</td>\n",
              "    </tr>\n",
              "    <tr>\n",
              "      <th>2004-01-01</th>\n",
              "      <th>4</th>\n",
              "      <td>1</td>\n",
              "    </tr>\n",
              "  </tbody>\n",
              "</table>\n",
              "</div>"
            ],
            "text/plain": [
              "              Income_Class\n",
              "year                      \n",
              "2000-01-01 0             1\n",
              "2001-01-01 1             1\n",
              "2002-01-01 2             1\n",
              "2003-01-01 3             1\n",
              "2004-01-01 4             1"
            ]
          },
          "metadata": {
            "tags": []
          },
          "execution_count": 28
        }
      ]
    },
    {
      "cell_type": "code",
      "metadata": {
        "id": "4H1fvgmrCHoJ",
        "colab": {
          "base_uri": "https://localhost:8080/",
          "height": 122
        },
        "outputId": "5ad87382-caf3-4cd8-93ff-f64b17fa2d9a"
      },
      "source": [
        "## KNN classifier\n",
        "from sklearn.neighbors import KNeighborsClassifier\n",
        "X_train, X_test, Y_train, Y_test = train_test_split(X_low, ylow, test_size = 0.20)\n",
        "from sklearn.neighbors import KNeighborsClassifier  \n",
        "classifier = KNeighborsClassifier(leaf_size=50, metric='minkowski',n_neighbors=6)  \n",
        "classifier.fit(X_train, Y_train)"
      ],
      "execution_count": null,
      "outputs": [
        {
          "output_type": "stream",
          "text": [
            "/usr/local/lib/python3.6/dist-packages/ipykernel_launcher.py:5: DataConversionWarning: A column-vector y was passed when a 1d array was expected. Please change the shape of y to (n_samples, ), for example using ravel().\n",
            "  \"\"\"\n"
          ],
          "name": "stderr"
        },
        {
          "output_type": "execute_result",
          "data": {
            "text/plain": [
              "KNeighborsClassifier(algorithm='auto', leaf_size=50, metric='minkowski',\n",
              "                     metric_params=None, n_jobs=None, n_neighbors=6, p=2,\n",
              "                     weights='uniform')"
            ]
          },
          "metadata": {
            "tags": []
          },
          "execution_count": 29
        }
      ]
    },
    {
      "cell_type": "code",
      "metadata": {
        "id": "vAIZIlAlCcwy",
        "colab": {
          "base_uri": "https://localhost:8080/",
          "height": 564
        },
        "outputId": "798bf029-889b-4d9d-b3ba-46daf1fabdb7"
      },
      "source": [
        "Y_pred = classifier.predict(X_test)\n",
        "scores = model_selection.cross_val_score(classifier, X_low, ylow, cv=10)\n",
        "from sklearn.metrics import classification_report, confusion_matrix\n",
        "print(confusion_matrix(Y_test,Y_pred))\n",
        "print(classification_report(Y_test,Y_pred))"
      ],
      "execution_count": null,
      "outputs": [
        {
          "output_type": "stream",
          "text": [
            "[[ 68  11]\n",
            " [ 20 100]]\n",
            "              precision    recall  f1-score   support\n",
            "\n",
            "           1       0.77      0.86      0.81        79\n",
            "           2       0.90      0.83      0.87       120\n",
            "\n",
            "    accuracy                           0.84       199\n",
            "   macro avg       0.84      0.85      0.84       199\n",
            "weighted avg       0.85      0.84      0.85       199\n",
            "\n"
          ],
          "name": "stdout"
        },
        {
          "output_type": "stream",
          "text": [
            "/usr/local/lib/python3.6/dist-packages/sklearn/model_selection/_validation.py:516: DataConversionWarning: A column-vector y was passed when a 1d array was expected. Please change the shape of y to (n_samples, ), for example using ravel().\n",
            "  estimator.fit(X_train, y_train, **fit_params)\n",
            "/usr/local/lib/python3.6/dist-packages/sklearn/model_selection/_validation.py:516: DataConversionWarning: A column-vector y was passed when a 1d array was expected. Please change the shape of y to (n_samples, ), for example using ravel().\n",
            "  estimator.fit(X_train, y_train, **fit_params)\n",
            "/usr/local/lib/python3.6/dist-packages/sklearn/model_selection/_validation.py:516: DataConversionWarning: A column-vector y was passed when a 1d array was expected. Please change the shape of y to (n_samples, ), for example using ravel().\n",
            "  estimator.fit(X_train, y_train, **fit_params)\n",
            "/usr/local/lib/python3.6/dist-packages/sklearn/model_selection/_validation.py:516: DataConversionWarning: A column-vector y was passed when a 1d array was expected. Please change the shape of y to (n_samples, ), for example using ravel().\n",
            "  estimator.fit(X_train, y_train, **fit_params)\n",
            "/usr/local/lib/python3.6/dist-packages/sklearn/model_selection/_validation.py:516: DataConversionWarning: A column-vector y was passed when a 1d array was expected. Please change the shape of y to (n_samples, ), for example using ravel().\n",
            "  estimator.fit(X_train, y_train, **fit_params)\n",
            "/usr/local/lib/python3.6/dist-packages/sklearn/model_selection/_validation.py:516: DataConversionWarning: A column-vector y was passed when a 1d array was expected. Please change the shape of y to (n_samples, ), for example using ravel().\n",
            "  estimator.fit(X_train, y_train, **fit_params)\n",
            "/usr/local/lib/python3.6/dist-packages/sklearn/model_selection/_validation.py:516: DataConversionWarning: A column-vector y was passed when a 1d array was expected. Please change the shape of y to (n_samples, ), for example using ravel().\n",
            "  estimator.fit(X_train, y_train, **fit_params)\n",
            "/usr/local/lib/python3.6/dist-packages/sklearn/model_selection/_validation.py:516: DataConversionWarning: A column-vector y was passed when a 1d array was expected. Please change the shape of y to (n_samples, ), for example using ravel().\n",
            "  estimator.fit(X_train, y_train, **fit_params)\n",
            "/usr/local/lib/python3.6/dist-packages/sklearn/model_selection/_validation.py:516: DataConversionWarning: A column-vector y was passed when a 1d array was expected. Please change the shape of y to (n_samples, ), for example using ravel().\n",
            "  estimator.fit(X_train, y_train, **fit_params)\n",
            "/usr/local/lib/python3.6/dist-packages/sklearn/model_selection/_validation.py:516: DataConversionWarning: A column-vector y was passed when a 1d array was expected. Please change the shape of y to (n_samples, ), for example using ravel().\n",
            "  estimator.fit(X_train, y_train, **fit_params)\n"
          ],
          "name": "stderr"
        }
      ]
    },
    {
      "cell_type": "code",
      "metadata": {
        "id": "VTvBg9YoCimC",
        "colab": {
          "base_uri": "https://localhost:8080/",
          "height": 51
        },
        "outputId": "6949766a-d306-48a3-bbff-8fb6c74431c8"
      },
      "source": [
        "scores"
      ],
      "execution_count": null,
      "outputs": [
        {
          "output_type": "execute_result",
          "data": {
            "text/plain": [
              "array([0.66      , 0.62      , 0.7       , 0.78      , 0.70707071,\n",
              "       0.67676768, 0.6969697 , 0.62244898, 0.81632653, 0.65306122])"
            ]
          },
          "metadata": {
            "tags": []
          },
          "execution_count": 31
        }
      ]
    },
    {
      "cell_type": "code",
      "metadata": {
        "id": "9E59ruM1Cmzp",
        "colab": {
          "base_uri": "https://localhost:8080/",
          "height": 34
        },
        "outputId": "ad252895-2234-4288-83cc-fd90ee102e25"
      },
      "source": [
        "avg = np.mean(scores)\n",
        "avg"
      ],
      "execution_count": null,
      "outputs": [
        {
          "output_type": "execute_result",
          "data": {
            "text/plain": [
              "0.6932644815501958"
            ]
          },
          "metadata": {
            "tags": []
          },
          "execution_count": 32
        }
      ]
    },
    {
      "cell_type": "code",
      "metadata": {
        "id": "caCz0L-zCovg"
      },
      "source": [
        "import itertools\n",
        "def plot_confusion_matrix(cm, classes,\n",
        "                          normalize=False,\n",
        "                          title='Confusion Matrix',\n",
        "                          cmap=plt.cm.Blues):\n",
        "    \"\"\"\n",
        "    This function prints and plots the confusion matrix.\n",
        "    Normalization can be applied by setting `normalize=True`.\n",
        "    \"\"\"\n",
        "    if normalize:\n",
        "        cm = cm.astype('float') / cm.sum(axis=1)[:, np.newaxis]\n",
        "        print(\"Normalized confusion matrix\")\n",
        "    else:\n",
        "        print('Confusion matrix, without normalization')\n",
        "\n",
        "    print(cm)\n",
        "\n",
        "    plt.imshow(cm, interpolation='nearest', cmap=cmap)\n",
        "    plt.title(title)\n",
        "    plt.colorbar()\n",
        "    tick_marks = np.arange(len(classes))\n",
        "    plt.xticks(tick_marks, classes, rotation=45)\n",
        "    plt.yticks(tick_marks, classes)\n",
        "\n",
        "    fmt = '.2f' if normalize else 'd'\n",
        "    thresh = cm.max() / 2.\n",
        "    for i, j in itertools.product(range(cm.shape[0]), range(cm.shape[1])):\n",
        "        plt.text(j, i, format(cm[i, j], fmt),\n",
        "                 horizontalalignment=\"center\",\n",
        "                 color=\"white\" if cm[i, j] > thresh else \"black\")\n",
        "\n",
        "    plt.tight_layout()\n",
        "    plt.ylabel('True label')\n",
        "    plt.xlabel('Predicted label')"
      ],
      "execution_count": null,
      "outputs": []
    },
    {
      "cell_type": "code",
      "metadata": {
        "id": "a19YwLH9CrmC",
        "colab": {
          "base_uri": "https://localhost:8080/",
          "height": 354
        },
        "outputId": "16a5e58c-f6c3-4fa5-81a4-74e60fc1e926"
      },
      "source": [
        "# Plot non-normalized confusion matrix\n",
        "cmatrix = confusion_matrix(Y_test,Y_pred)\n",
        "#print(cmatrix)\n",
        "plot_confusion_matrix(cmatrix, classes=['Low Income','Low Middle Income'])"
      ],
      "execution_count": null,
      "outputs": [
        {
          "output_type": "stream",
          "text": [
            "Confusion matrix, without normalization\n",
            "[[ 68  11]\n",
            " [ 20 100]]\n"
          ],
          "name": "stdout"
        },
        {
          "output_type": "display_data",
          "data": {
            "image/png": "[encoded data removed]",
            "text/plain": [
              "<Figure size 432x288 with 2 Axes>"
            ]
          },
          "metadata": {
            "tags": []
          }
        }
      ]
    },
    {
      "cell_type": "code",
      "metadata": {
        "id": "kLWGd899CuS8",
        "colab": {
          "base_uri": "https://localhost:8080/",
          "height": 287
        },
        "outputId": "22c2bccb-bb00-41dc-c80d-4910a3855f7a"
      },
      "source": [
        "data.DCPFS.groupby(by=data.Income_Class).describe().round().T"
      ],
      "execution_count": null,
      "outputs": [
        {
          "output_type": "execute_result",
          "data": {
            "text/html": [
              "<div>\n",
              "<style scoped>\n",
              "    .dataframe tbody tr th:only-of-type {\n",
              "        vertical-align: middle;\n",
              "    }\n",
              "\n",
              "    .dataframe tbody tr th {\n",
              "        vertical-align: top;\n",
              "    }\n",
              "\n",
              "    .dataframe thead th {\n",
              "        text-align: right;\n",
              "    }\n",
              "</style>\n",
              "<table border=\"1\" class=\"dataframe\">\n",
              "  <thead>\n",
              "    <tr style=\"text-align: right;\">\n",
              "      <th>Income_Class</th>\n",
              "      <th>High income</th>\n",
              "      <th>Low income</th>\n",
              "      <th>Lower middle income</th>\n",
              "      <th>Upper middle income</th>\n",
              "    </tr>\n",
              "  </thead>\n",
              "  <tbody>\n",
              "    <tr>\n",
              "      <th>count</th>\n",
              "      <td>879.0</td>\n",
              "      <td>414.0</td>\n",
              "      <td>577.0</td>\n",
              "      <td>811.0</td>\n",
              "    </tr>\n",
              "    <tr>\n",
              "      <th>mean</th>\n",
              "      <td>98.0</td>\n",
              "      <td>24.0</td>\n",
              "      <td>36.0</td>\n",
              "      <td>46.0</td>\n",
              "    </tr>\n",
              "    <tr>\n",
              "      <th>std</th>\n",
              "      <td>68.0</td>\n",
              "      <td>26.0</td>\n",
              "      <td>25.0</td>\n",
              "      <td>38.0</td>\n",
              "    </tr>\n",
              "    <tr>\n",
              "      <th>min</th>\n",
              "      <td>-10.0</td>\n",
              "      <td>-5.0</td>\n",
              "      <td>-17.0</td>\n",
              "      <td>-115.0</td>\n",
              "    </tr>\n",
              "    <tr>\n",
              "      <th>25%</th>\n",
              "      <td>47.0</td>\n",
              "      <td>10.0</td>\n",
              "      <td>16.0</td>\n",
              "      <td>23.0</td>\n",
              "    </tr>\n",
              "    <tr>\n",
              "      <th>50%</th>\n",
              "      <td>90.0</td>\n",
              "      <td>18.0</td>\n",
              "      <td>35.0</td>\n",
              "      <td>41.0</td>\n",
              "    </tr>\n",
              "    <tr>\n",
              "      <th>75%</th>\n",
              "      <td>145.0</td>\n",
              "      <td>26.0</td>\n",
              "      <td>54.0</td>\n",
              "      <td>63.0</td>\n",
              "    </tr>\n",
              "    <tr>\n",
              "      <th>max</th>\n",
              "      <td>317.0</td>\n",
              "      <td>150.0</td>\n",
              "      <td>113.0</td>\n",
              "      <td>217.0</td>\n",
              "    </tr>\n",
              "  </tbody>\n",
              "</table>\n",
              "</div>"
            ],
            "text/plain": [
              "Income_Class  High income  Low income  Lower middle income  Upper middle income\n",
              "count               879.0       414.0                577.0                811.0\n",
              "mean                 98.0        24.0                 36.0                 46.0\n",
              "std                  68.0        26.0                 25.0                 38.0\n",
              "min                 -10.0        -5.0                -17.0               -115.0\n",
              "25%                  47.0        10.0                 16.0                 23.0\n",
              "50%                  90.0        18.0                 35.0                 41.0\n",
              "75%                 145.0        26.0                 54.0                 63.0\n",
              "max                 317.0       150.0                113.0                217.0"
            ]
          },
          "metadata": {
            "tags": []
          },
          "execution_count": 81
        }
      ]
    },
    {
      "cell_type": "code",
      "metadata": {
        "id": "rqmMrivMWetY"
      },
      "source": [
        ""
      ],
      "execution_count": null,
      "outputs": []
    }
  ]
}